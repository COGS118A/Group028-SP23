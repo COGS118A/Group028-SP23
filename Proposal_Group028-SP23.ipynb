{
 "cells": [
  {
   "attachments": {},
   "cell_type": "markdown",
   "metadata": {},
   "source": [
    "# COGS 118A- Project Proposal"
   ]
  },
  {
   "attachments": {},
   "cell_type": "markdown",
   "metadata": {},
   "source": [
    "# Project Description\n",
    "\n",
    "You will design and execute a machine learning project. There are a few constraints on the nature of the allowed project. \n",
    "- The problem addressed will not be a \"toy problem\" or \"common training students problem\" like mtcars, iris, palmer penguins etc.\n",
    "- The dataset will have >1k observations and >5 variables. I'd prefer more like >10k observations and >10 variables. A general rule is that if you have >100x more observations than variables, your solution will likely generalize a lot better. The goal of training a supervised machine learning model is to learn the underlying pattern in a dataset in order to generalize well to unseen data, so choosing a large dataset is very important.\n",
    "\n",
    "- The project will include a model selection and/or feature selection component where you will be looking for the best setup to maximize the performance of your ML system.\n",
    "- You will evaluate the performance of your ML system using more than one appropriate metric\n",
    "- You will be writing a report describing and discussing these accomplishments\n",
    "\n",
    "\n",
    "Feel free to delete this description section when you hand in your proposal."
   ]
  },
  {
   "attachments": {},
   "cell_type": "markdown",
   "metadata": {},
   "source": [
    "### Peer Review\n",
    "\n",
    "You will all have an opportunity to look at the Project Proposals of other groups to fuel your creativity and get more ideas for how you can improve your own projects. \n",
    "\n",
    "Both the project proposal and project checkpoint will have peer review."
   ]
  },
  {
   "attachments": {},
   "cell_type": "markdown",
   "metadata": {},
   "source": [
    "# Names\n",
    "\n",
    "- Kyle Nakai\n",
    "- Yueshan Huang\n",
    "- Shaoming Chen"
   ]
  },
  {
   "attachments": {},
   "cell_type": "markdown",
   "metadata": {},
   "source": [
    "# Abstract \n",
    "In today’s competitive job market, estimating future salary is a crucial aspect for both college students and education institutions. By machine learning techniques, our goal is to develop a predictive model that could estimate the salary of college graduates based on their academic achievements. We used a kaggle dataset that showed various features that reflect their performance in college, such as GPA, degree, or AMCAT scores. Most features are measured numerically, for those who are not in numeric form such as degree or gender, we will use one hot encoding method. With this data, we will identify the top 10 most significant features that contribute to the salary and we will use linear regression to train the data sets. Our model's performance will be matured based on the difference between true salary and the predicted salary. "
   ]
  },
  {
   "attachments": {},
   "cell_type": "markdown",
   "metadata": {},
   "source": [
    "# Background\n",
    "\n",
    "College students' salaries are influenced by various factors, including gender, college rank, major choice, and standardized test scores such as the AMCAT. Understanding the relationship between these factors and salary outcomes is crucial for informed decision-making and addressing potential disparities.\n",
    "\n",
    "Gender plays a significant role in salary discrepancies among college graduates. Despite advancements in gender equality, women often face lower wages compared to men. Analyzing salary data can provide insights into the extent of these disparities, helping policymakers develop strategies to promote pay equity and fair employment practices.\n",
    "\n",
    "The prestige of the college attended also impacts salary prospects. Higher-ranked colleges often offer better resources, networking opportunities, and career services, which can translate into higher starting salaries. Exploring the connection between college rank and salaries can inform educational institutions about the value of enhancing career support for students and strengthening alumni networks.\n",
    "The choice of major is another influential factor. Certain fields, such as STEM (Science, Technology, Engineering, and Mathematics) disciplines, typically yield higher-paying job opportunities. Evaluating the correlation between major choice and salary outcomes can guide students in making informed educational and career decisions while enabling educators to identify areas for curriculum enhancement and support in fields with lower earning potentials.\n",
    "\n",
    "Additionally, standardized tests like the AMCAT score can impact salary prospects. The AMCAT measures job applicants' aptitude and skills, serving as a benchmark for employability. Analyzing the relationship between AMCAT scores and salaries can help students understand the potential significance of test performance on future earnings.\n",
    "\n",
    "Machine learning techniques can effectively analyze relevant datasets to derive valuable insights. Predictive modeling can forecast salary outcomes based on factors such as gender, college rank, major, and AMCAT scores. Feature importance analysis can identify the relative significance of these factors in salary determination. Machine learning algorithms can also be employed for clustering and segmentation, helping identify patterns and target specific groups for interventions. By leveraging machine learning, policymakers and educators can gain actionable information to promote fair salary practices, address disparities, and support informed decision-making for college students. "
   ]
  },
  {
   "attachments": {},
   "cell_type": "markdown",
   "metadata": {},
   "source": [
    "# Problem Statement\n",
    "\n",
    "In this project we want to see if we can predict the salary of recently graduated engineers based on data such as their college GPA, gender, college tier, 12th grade marks, and other variables. We hope to train a regression model on our dataset and be able to accurately estimate salary."
   ]
  },
  {
   "attachments": {},
   "cell_type": "markdown",
   "metadata": {},
   "source": [
    "# Data\n",
    "\n",
    "- Dataset: https://www.kaggle.com/datasets/manishkc06/engineering-graduate-salary-prediction?resource=download \n",
    "- 2998 observations and 34 variables\n",
    "- Variables:\n",
    "    - ID: A unique ID to identify a candidate\n",
    "    - Salary: Annual CTC offered to the candidate (in INR)\n",
    "    - Gender: Candidate's gender\n",
    "    - DOB: Date of birth of the candidate\n",
    "    - 10percentage: Overall marks obtained in grade 10 examinations\n",
    "    - 10board: The school board whose curriculum the candidate followed in grade 10\n",
    "    - 12graduation: Year of graduation - senior year high school\n",
    "    - 12percentage: Overall marks obtained in grade 12 examinations\n",
    "    - 12board: The school board whose curriculum the candidate followed\n",
    "    - CollegeID: Unique ID identifying the university/college which the candidate attended for her/his undergraduate\n",
    "    - CollegeTier: Each college has been annotated as 1 or 2. The annotations have been computed from the average AMCAT scores obtained by the - students in the college/university. Colleges with an average score above a threshold are tagged as 1 and others as 2.\n",
    "    - Degree: Degree obtained/pursued by the candidate\n",
    "    - Specialization: Specialization pursued by the candidate\n",
    "    - CollegeGPA: Aggregate GPA at graduation\n",
    "    - CollegeCityID: A unique ID to identify the city in which the college is located in.\n",
    "    - CollegeCityTier: The tier of the city in which the college is located in. This is annotated based on the population of the cities.\n",
    "    - CollegeState: Name of the state in which the college is located\n",
    "    - GraduationYear: Year of graduation (Bachelor's degree)\n",
    "    - English: Scores in AMCAT English section\n",
    "    - Logical: Score in AMCAT Logical ability section\n",
    "    - Quant: Score in AMCAT's Quantitative ability section\n",
    "    - Domain: Scores in AMCAT's domain module\n",
    "    - ComputerProgramming: Score in AMCAT's Computer programming section\n",
    "    - ElectronicsAndSemicon: Score in AMCAT's Electronics & Semiconductor Engineering section\n",
    "    - ComputerScience: Score in AMCAT's Computer Science section\n",
    "    - MechanicalEngg: Score in AMCAT's Mechanical Engineering section\n",
    "    - ElectricalEngg: Score in AMCAT's Electrical Engineering section\n",
    "    - TelecomEngg: Score in AMCAT's Telecommunication Engineering section\n",
    "    - CivilEngg: Score in AMCAT's Civil Engineering section\n",
    "    - conscientiousness: Scores in one of the sections of AMCAT's personality test\n",
    "    - agreeableness: Scores in one of the sections of AMCAT's personality test\n",
    "    - extraversion: Scores in one of the sections of AMCAT's personality test\n",
    "    - nueroticism: Scores in one of the sections of AMCAT's personality test\n",
    "    - openess_to_experience: Scores in one of the sections of AMCAT's personality test\n",
    "\n",
    "- We are particularly interested in the score variables such as CollegeGPA and 12percentage which are represented as floats\n",
    "- We will need to clean some of the data in the following ways:\n",
    "    - Convert categorical variables to one-hot encoding\n",
    "    - Normalize the numerical values for accurate comparison"
   ]
  },
  {
   "attachments": {},
   "cell_type": "markdown",
   "metadata": {},
   "source": [
    "# Proposed Solution\n",
    "\n",
    "We will perform multi-class classification in logistic regression model to estimate the total salary of a student based on various features of shown in dataset. Since there are multiple categories to describe the status of a student, we can train the dataset across different variables and then estimate the final result in salary column. Also, we can use the one-hot encoding method to include the categorical variables in our analysis. Other model can also be applied to our machine learning. The MSE score is the main evaluation matrics in the solution. When incorporated in the k-folds cross validation, the mean of the MSE across the datasets can be used to present the overall performance of the model. Other algorithem can be applied to this dataset as well. K Nearest Neighbor, decision tree and SVM can also be used to determine a more robust model to generalize the datasets in different perspectives."
   ]
  },
  {
   "attachments": {},
   "cell_type": "markdown",
   "metadata": {},
   "source": [
    "# Evaluation Metrics\n",
    "\n",
    " In our problem, one reasonalble evaluatoin metrix to use would be MSE (Mean Squared Error). MSE is considered a rather common metric for evaluating the performance of a regression model. This model measures the average squared difference between the predicted values of the model and the actual values from the dataset. Here is a mathematical representatin of the MSE: MSE = (1/n) * Σ(yi - ŷi)^2. N is the number of data points in total; yi refers to the actual value of the variable for the i-th data point, and ŷi refers to the predicted value of the variable for the i-th data point.\n",
    "\n",
    "Since the MSE is always greater than zero, a lower MSE indicates a better performance for the model, as the predicted value is closer to the real value in the dataset. It provides a measure of how well the model fits the data and how close the predicted values are to the actual values. However, since MSE is squared, it penalizes larger errors more heavily than smaller errors.\n",
    "\n",
    "Morever, k-folds cross validation can be used along with MSE. By shuffling the training data and evaluated k-times, overfitting and accuracy of the model can be trained at best. The MSE values in our cross-validation can be averaged to provide an overall assessment of the model's performance."
   ]
  },
  {
   "attachments": {},
   "cell_type": "markdown",
   "metadata": {},
   "source": [
    "# Ethics & Privacy"
   ]
  },
  {
   "attachments": {},
   "cell_type": "markdown",
   "metadata": {},
   "source": [
    "\n",
    "This dataset is publicly available thanks to 'Aspiring Minds Research', and provides income and educational details about recent graduates from Indian engineering and technology institutions. There are always concerns about privacy and exposure when working with data collected from indiviudals, however in this case our dataset does not contain much personally identifiable information so their is less risk of people being targeted and harmed. The only PII is date of birth but without any other information this is not very valuable. We also do interact with the participants' actual income as well as educational information such as GPA and exam scores. Hopefully the anonymity of the samples will protect the participants in this regard but we must still be cautious when handling data such as this. We must also consider potential biases in the data that could arise from factors such as gender, age, location, and other circumstances. We will deal with potential privacy concerns by ensuring the data is solely used for the purposes outlined by our project. "
   ]
  },
  {
   "attachments": {},
   "cell_type": "markdown",
   "metadata": {},
   "source": [
    "# Team Expectations "
   ]
  },
  {
   "attachments": {},
   "cell_type": "markdown",
   "metadata": {},
   "source": [
    "* *Respect each other*\n",
    "* *Finish the work and join meetings on time*\n",
    "* *Support each other, give help if you can*\n",
    "* *Check messages on Discord in a timely manner*\n",
    "* *Be cheerful, positive and encouraging to other team members*"
   ]
  },
  {
   "attachments": {},
   "cell_type": "markdown",
   "metadata": {},
   "source": [
    "# Project Timeline Proposal"
   ]
  },
  {
   "attachments": {},
   "cell_type": "markdown",
   "metadata": {},
   "source": [
    "| Meeting Date  | Meeting Time| Completed Before Meeting  | Discuss at Meeting |\n",
    "|---|---|---|---|\n",
    "| 5/17  |  8 PM |  Finish rough draft on project proposal  | finalize the project proposal and make sure to submit on time | \n",
    "| 5/24  |  8 PM |  Read the feedback from TA and peers | Discuss on the feedbacks, think of ways to fix the issues, split the work accordingly | \n",
    "| 5/29  |  8 PM | Finish individual work split  | Review eachother's work and discuss how to improve further, split the work accordingly |\n",
    "| 5/31  |  8 PM | Fix the issues and finish rough draft on project check point | finalize the project proposal and make sure to submit on time |\n",
    "| 6/08   |  8 PM  | Think of ways to improve our project and which part isn't satisfying | Share thoughts and discuss the feasability of each group members ideas, split the work accordingly |\n",
    "| 6/12  |  8 PM  | Finish individual work split| discuss on how to fix and improve our project |\n",
    "| 6/14  |  8 PM  | Finish the final project | Turn in Final Project  |"
   ]
  },
  {
   "attachments": {},
   "cell_type": "markdown",
   "metadata": {},
   "source": [
    "# Footnotes\n",
    "<a name=\"lorenznote\"></a>1.[^](#lorenz): Lorenz, T. (9 Dec 2021) Birds Aren’t Real, or Are They? Inside a Gen Z Conspiracy Theory. *The New York Times*. https://www.nytimes.com/2021/12/09/technology/birds-arent-real-gen-z-misinformation.html<br> \n",
    "<a name=\"admonishnote\"></a>2.[^](#admonish): Also refs should be important to the background, not some randomly chosen vaguely related stuff. Include a web link if possible in refs as above.<br>\n",
    "<a name=\"sotanote\"></a>3.[^](#sota): Perhaps the current state of the art solution such as you see on [Papers with code](https://paperswithcode.com/sota). Or maybe not SOTA, but rather a standard textbook/Kaggle solution to this kind of problem\n"
   ]
  },
  {
   "cell_type": "code",
   "execution_count": null,
   "metadata": {},
   "outputs": [],
   "source": []
  }
 ],
 "metadata": {
  "kernelspec": {
   "display_name": "Python 3",
   "language": "python",
   "name": "python3"
  },
  "language_info": {
   "codemirror_mode": {
    "name": "ipython",
    "version": 3
   },
   "file_extension": ".py",
   "mimetype": "text/x-python",
   "name": "python",
   "nbconvert_exporter": "python",
   "pygments_lexer": "ipython3",
   "version": "3.8.8"
  }
 },
 "nbformat": 4,
 "nbformat_minor": 2
}
